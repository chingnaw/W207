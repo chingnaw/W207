{
 "cells": [
  {
   "cell_type": "markdown",
   "metadata": {},
   "source": [
    "# Project 1: Digit Classification with KNN and Naive Bayes"
   ]
  },
  {
   "cell_type": "markdown",
   "metadata": {},
   "source": [
    "In this project, you'll implement your own image recognition system for classifying digits. Read through the code and the instructions carefully and add your own code where indicated. Each problem can be addressed succinctly with the included packages -- please don't add any more. Grading will be based on writing clean, commented code, along with a few short answers.\n",
    "\n",
    "As always, you're welcome to work on the project in groups and discuss ideas on the course wall, but <b> please prepare your own write-up (with your own code). </b>\n",
    "\n",
    "If you're interested, check out these links related to digit recognition:\n",
    "\n",
    "Yann Lecun's MNIST benchmarks: http://yann.lecun.com/exdb/mnist/\n",
    "\n",
    "Stanford Streetview research and data: http://ufldl.stanford.edu/housenumbers/"
   ]
  },
  {
   "cell_type": "code",
   "execution_count": 1,
   "metadata": {
    "collapsed": false
   },
   "outputs": [],
   "source": [
    "# This tells matplotlib not to try opening a new window for each plot.\n",
    "%matplotlib inline\n",
    "\n",
    "# Import a bunch of libraries.\n",
    "import time\n",
    "import numpy as np\n",
    "import matplotlib.pyplot as plt\n",
    "from matplotlib.ticker import MultipleLocator\n",
    "from sklearn.pipeline import Pipeline\n",
    "from sklearn.datasets import fetch_mldata\n",
    "from sklearn.neighbors import KNeighborsClassifier\n",
    "from sklearn.metrics import confusion_matrix\n",
    "from sklearn.linear_model import LinearRegression\n",
    "from sklearn.naive_bayes import BernoulliNB\n",
    "from sklearn.naive_bayes import MultinomialNB\n",
    "from sklearn.naive_bayes import GaussianNB\n",
    "from sklearn.grid_search import GridSearchCV\n",
    "from sklearn.metrics import classification_report\n",
    "\n",
    "# Set the randomizer seed so results are the same each time.\n",
    "np.random.seed(0)"
   ]
  },
  {
   "cell_type": "markdown",
   "metadata": {},
   "source": [
    "Load the data. Notice that we are splitting the data into training, development, and test. We also have a small subset of the training data called mini_train_data and mini_train_labels that you should use in all the experiments below, unless otherwise noted."
   ]
  },
  {
   "cell_type": "code",
   "execution_count": 2,
   "metadata": {
    "collapsed": false
   },
   "outputs": [
    {
     "name": "stdout",
     "output_type": "stream",
     "text": [
      "data shape:  (70000L, 784L)\n",
      "label shape: (70000L,)\n"
     ]
    }
   ],
   "source": [
    "# Load the digit data either from mldata.org, or once downloaded to data_home, from disk. The data is about 53MB so this cell\n",
    "# should take a while the first time your run it.\n",
    "mnist = fetch_mldata('MNIST original', data_home='~/datasets/mnist')\n",
    "X, Y = mnist.data, mnist.target\n",
    "\n",
    "# Rescale grayscale values to [0,1].\n",
    "X = X / 255.0\n",
    "\n",
    "# Shuffle the input: create a random permutation of the integers between 0 and the number of data points and apply this\n",
    "# permutation to X and Y.\n",
    "# NOTE: Each time you run this cell, you'll re-shuffle the data, resulting in a different ordering.\n",
    "shuffle = np.random.permutation(np.arange(X.shape[0]))\n",
    "X, Y = X[shuffle], Y[shuffle]\n",
    "\n",
    "print 'data shape: ', X.shape\n",
    "print 'label shape:', Y.shape\n",
    "\n",
    "# Set some variables to hold test, dev, and training data.\n",
    "test_data, test_labels = X[61000:], Y[61000:]\n",
    "dev_data, dev_labels = X[60000:61000], Y[60000:61000]\n",
    "train_data, train_labels = X[:60000], Y[:60000]\n",
    "mini_train_data, mini_train_labels = X[:1000], Y[:1000]"
   ]
  },
  {
   "cell_type": "code",
   "execution_count": 3,
   "metadata": {
    "collapsed": false
   },
   "outputs": [
    {
     "data": {
      "text/plain": [
       "array([[0, 0, 0, ..., 0, 0, 0],\n",
       "       [0, 0, 0, ..., 0, 0, 0],\n",
       "       [0, 0, 0, ..., 0, 0, 0],\n",
       "       ..., \n",
       "       [0, 0, 0, ..., 0, 0, 0],\n",
       "       [0, 0, 0, ..., 0, 0, 0],\n",
       "       [0, 0, 0, ..., 0, 0, 0]], dtype=uint8)"
      ]
     },
     "execution_count": 3,
     "metadata": {},
     "output_type": "execute_result"
    }
   ],
   "source": [
    "mnist.data"
   ]
  },
  {
   "cell_type": "markdown",
   "metadata": {},
   "source": [
    "(1) Create a 10x10 grid to visualize 10 examples of each digit. Python hints:\n",
    "\n",
    "- plt.rc() for setting the colormap, for example to black and white\n",
    "- plt.subplot() for creating subplots\n",
    "- plt.imshow() for rendering a matrix\n",
    "- np.array.reshape() for reshaping a 1D feature vector into a 2D matrix (for rendering)"
   ]
  },
  {
   "cell_type": "code",
   "execution_count": 4,
   "metadata": {
    "collapsed": false
   },
   "outputs": [
    {
     "data": {
      "image/png": "[encoded data removed]",
      "text/plain": [
       "<matplotlib.figure.Figure at 0x3e895c0>"
      ]
     },
     "metadata": {},
     "output_type": "display_data"
    }
   ],
   "source": [
    "### STUDENT START ###\n",
    "def P1(num_examples):\n",
    "    fig, axes = plt.subplots(10, num_examples)\n",
    "    for i in range(10):  #we have 10 digits we want to characterize\n",
    "        digits = train_data[train_labels == i][:num_examples]  #want to show each example\n",
    "        for j, digit in enumerate(digits):\n",
    "            ax = axes[i][j]\n",
    "            ax.matshow(digit.reshape(28, 28), cmap=plt.cm.gray, vmin=0.0, vmax=1.0)\n",
    "\n",
    "### STUDENT END ###\n",
    "P1(5)"
   ]
  },
  {
   "cell_type": "markdown",
   "metadata": {},
   "source": [
    "(2) Evaluate a K-Nearest-Neighbors model with k = [1,3,5,7,9] using the mini training set. Report accuracy on the dev set. For k=1, show precision, recall, and F1 for each label. Which is the most difficult digit?\n",
    "\n",
    "- KNeighborsClassifier() for fitting and predicting\n",
    "- classification_report() for producing precision, recall, F1 results"
   ]
  },
  {
   "cell_type": "code",
   "execution_count": 5,
   "metadata": {
    "collapsed": false,
    "scrolled": true
   },
   "outputs": [
    {
     "name": "stdout",
     "output_type": "stream",
     "text": [
      "K: 1   total: 1000  correct: 888  accuracy: 0.89\n",
      "             precision    recall  f1-score   support\n",
      "\n",
      "        0.0       0.91      0.98      0.94        99\n",
      "        1.0       0.89      1.00      0.94       105\n",
      "        2.0       0.99      0.79      0.88       102\n",
      "        3.0       0.77      0.87      0.82        86\n",
      "        4.0       0.89      0.82      0.85       104\n",
      "        5.0       0.93      0.84      0.88        91\n",
      "        6.0       0.94      0.96      0.95        98\n",
      "        7.0       0.89      0.92      0.90       113\n",
      "        8.0       0.94      0.88      0.91        96\n",
      "        9.0       0.78      0.82      0.80       106\n",
      "\n",
      "avg / total       0.89      0.89      0.89      1000\n",
      "\n",
      "K: 3   total: 1000  correct: 878  accuracy: 0.88\n",
      "             precision    recall  f1-score   support\n",
      "\n",
      "        0.0       0.90      1.00      0.95        99\n",
      "        1.0       0.81      1.00      0.89       105\n",
      "        2.0       0.95      0.81      0.88       102\n",
      "        3.0       0.69      0.84      0.75        86\n",
      "        4.0       0.88      0.85      0.86       104\n",
      "        5.0       0.94      0.79      0.86        91\n",
      "        6.0       0.97      0.96      0.96        98\n",
      "        7.0       0.92      0.88      0.90       113\n",
      "        8.0       0.96      0.79      0.87        96\n",
      "        9.0       0.84      0.85      0.85       106\n",
      "\n",
      "avg / total       0.89      0.88      0.88      1000\n",
      "\n",
      "K: 5   total: 1000  correct: 869  accuracy: 0.87\n",
      "             precision    recall  f1-score   support\n",
      "\n",
      "        0.0       0.92      0.98      0.95        99\n",
      "        1.0       0.78      1.00      0.88       105\n",
      "        2.0       0.98      0.80      0.88       102\n",
      "        3.0       0.76      0.84      0.80        86\n",
      "        4.0       0.87      0.83      0.85       104\n",
      "        5.0       0.93      0.82      0.87        91\n",
      "        6.0       0.94      0.95      0.94        98\n",
      "        7.0       0.87      0.87      0.87       113\n",
      "        8.0       0.96      0.77      0.86        96\n",
      "        9.0       0.77      0.82      0.79       106\n",
      "\n",
      "avg / total       0.88      0.87      0.87      1000\n",
      "\n",
      "K: 7   total: 1000  correct: 865  accuracy: 0.86\n",
      "             precision    recall  f1-score   support\n",
      "\n",
      "        0.0       0.91      0.98      0.94        99\n",
      "        1.0       0.77      1.00      0.87       105\n",
      "        2.0       0.99      0.76      0.86       102\n",
      "        3.0       0.79      0.87      0.83        86\n",
      "        4.0       0.90      0.81      0.85       104\n",
      "        5.0       0.95      0.81      0.88        91\n",
      "        6.0       0.91      0.93      0.92        98\n",
      "        7.0       0.83      0.88      0.85       113\n",
      "        8.0       0.95      0.78      0.86        96\n",
      "        9.0       0.77      0.81      0.79       106\n",
      "\n",
      "avg / total       0.87      0.86      0.86      1000\n",
      "\n",
      "K: 9   total: 1000  correct: 863  accuracy: 0.86\n",
      "             precision    recall  f1-score   support\n",
      "\n",
      "        0.0       0.91      0.98      0.94        99\n",
      "        1.0       0.73      1.00      0.84       105\n",
      "        2.0       0.97      0.75      0.85       102\n",
      "        3.0       0.80      0.85      0.82        86\n",
      "        4.0       0.91      0.81      0.86       104\n",
      "        5.0       0.97      0.79      0.87        91\n",
      "        6.0       0.92      0.93      0.92        98\n",
      "        7.0       0.83      0.88      0.85       113\n",
      "        8.0       0.94      0.79      0.86        96\n",
      "        9.0       0.78      0.84      0.81       106\n",
      "\n",
      "avg / total       0.88      0.86      0.86      1000\n",
      "\n"
     ]
    }
   ],
   "source": [
    "### STUDENT START ###\n",
    "def P2(k_values):\n",
    "    for k in k_values:\n",
    "        \n",
    "        neigh = KNeighborsClassifier(n_neighbors=k)\n",
    "        neigh.fit(mini_train_data, mini_train_labels) #let's fit to the mini training data set\n",
    "        preds = neigh.predict(dev_data)  #predict on the development set\n",
    "    \n",
    "        correct, total = 0, 0 #set the preliminary values of correct and total to 0\n",
    "        #print preds\n",
    "        for pred, label in zip(preds, dev_labels):\n",
    "            if pred == label: correct += 1\n",
    "            total += 1\n",
    "        print 'K: %s   total: %3d  correct: %3d  accuracy: %3.2f' %(k, total, correct, 1.0*correct/total)\n",
    "        \n",
    "        print(classification_report(dev_labels,preds))\n",
    "\n",
    "### STUDENT END ###\n",
    "\n",
    "k_values = [1, 3, 5, 7, 9]\n",
    "P2(k_values)"
   ]
  },
  {
   "cell_type": "markdown",
   "metadata": {},
   "source": [
    "ANSWER: 9 is the most difficult digit for K-1, with low precision and f1-score."
   ]
  },
  {
   "cell_type": "markdown",
   "metadata": {},
   "source": [
    "(3) Using k=1, report dev set accuracy for the training set sizes below. Also, measure the amount of time needed for prediction with each training size.\n",
    "\n",
    "- time.time() gives a wall clock value you can use for timing operations"
   ]
  },
  {
   "cell_type": "code",
   "execution_count": 7,
   "metadata": {
    "collapsed": false
   },
   "outputs": [
    {
     "name": "stdout",
     "output_type": "stream",
     "text": [
      "size: 100  total: 1000  correct: 720  accuracy: 0.72\n",
      "             precision    recall  f1-score   support\n",
      "\n",
      "        0.0       0.86      0.95      0.90        99\n",
      "        1.0       0.60      1.00      0.75       105\n",
      "        2.0       0.90      0.60      0.72       102\n",
      "        3.0       0.56      0.70      0.62        86\n",
      "        4.0       0.92      0.47      0.62       104\n",
      "        5.0       0.77      0.51      0.61        91\n",
      "        6.0       0.87      0.86      0.86        98\n",
      "        7.0       0.70      0.81      0.75       113\n",
      "        8.0       0.92      0.47      0.62        96\n",
      "        9.0       0.56      0.79      0.66       106\n",
      "\n",
      "avg / total       0.77      0.72      0.71      1000\n",
      "\n",
      "size: 100  time: 0.112999916077\n",
      "size: 200  total: 1000  correct: 786  accuracy: 0.79\n",
      "             precision    recall  f1-score   support\n",
      "\n",
      "        0.0       0.91      0.96      0.94        99\n",
      "        1.0       0.69      0.99      0.82       105\n",
      "        2.0       0.95      0.62      0.75       102\n",
      "        3.0       0.71      0.67      0.69        86\n",
      "        4.0       0.82      0.67      0.74       104\n",
      "        5.0       0.77      0.73      0.75        91\n",
      "        6.0       0.90      0.89      0.89        98\n",
      "        7.0       0.74      0.87      0.80       113\n",
      "        8.0       0.88      0.73      0.80        96\n",
      "        9.0       0.64      0.71      0.67       106\n",
      "\n",
      "avg / total       0.80      0.79      0.78      1000\n",
      "\n",
      "size: 200  time: 0.236000061035\n",
      "size: 400  total: 1000  correct: 841  accuracy: 0.84\n",
      "             precision    recall  f1-score   support\n",
      "\n",
      "        0.0       0.89      1.00      0.94        99\n",
      "        1.0       0.80      1.00      0.89       105\n",
      "        2.0       0.95      0.73      0.82       102\n",
      "        3.0       0.68      0.78      0.72        86\n",
      "        4.0       0.93      0.75      0.83       104\n",
      "        5.0       0.87      0.71      0.78        91\n",
      "        6.0       0.98      0.93      0.95        98\n",
      "        7.0       0.78      0.90      0.84       113\n",
      "        8.0       0.93      0.77      0.84        96\n",
      "        9.0       0.73      0.81      0.77       106\n",
      "\n",
      "avg / total       0.85      0.84      0.84      1000\n",
      "\n",
      "size: 400  time: 0.456000089645\n",
      "size: 800  total: 1000  correct: 884  accuracy: 0.88\n",
      "             precision    recall  f1-score   support\n",
      "\n",
      "        0.0       0.91      0.99      0.95        99\n",
      "        1.0       0.88      1.00      0.94       105\n",
      "        2.0       0.99      0.79      0.88       102\n",
      "        3.0       0.76      0.87      0.81        86\n",
      "        4.0       0.90      0.84      0.87       104\n",
      "        5.0       0.92      0.80      0.86        91\n",
      "        6.0       0.97      0.95      0.96        98\n",
      "        7.0       0.87      0.91      0.89       113\n",
      "        8.0       0.93      0.85      0.89        96\n",
      "        9.0       0.76      0.82      0.79       106\n",
      "\n",
      "avg / total       0.89      0.88      0.88      1000\n",
      "\n",
      "size: 800  time: 0.968999862671\n",
      "size: 1600  total: 1000  correct: 888  accuracy: 0.89\n",
      "             precision    recall  f1-score   support\n",
      "\n",
      "        0.0       0.91      0.98      0.94        99\n",
      "        1.0       0.89      1.00      0.94       105\n",
      "        2.0       0.99      0.79      0.88       102\n",
      "        3.0       0.77      0.87      0.82        86\n",
      "        4.0       0.89      0.82      0.85       104\n",
      "        5.0       0.93      0.84      0.88        91\n",
      "        6.0       0.94      0.96      0.95        98\n",
      "        7.0       0.89      0.92      0.90       113\n",
      "        8.0       0.94      0.88      0.91        96\n",
      "        9.0       0.78      0.82      0.80       106\n",
      "\n",
      "avg / total       0.89      0.89      0.89      1000\n",
      "\n",
      "size: 1600  time: 1.48500013351\n",
      "size: 3200  total: 1000  correct: 888  accuracy: 0.89\n",
      "             precision    recall  f1-score   support\n",
      "\n",
      "        0.0       0.91      0.98      0.94        99\n",
      "        1.0       0.89      1.00      0.94       105\n",
      "        2.0       0.99      0.79      0.88       102\n",
      "        3.0       0.77      0.87      0.82        86\n",
      "        4.0       0.89      0.82      0.85       104\n",
      "        5.0       0.93      0.84      0.88        91\n",
      "        6.0       0.94      0.96      0.95        98\n",
      "        7.0       0.89      0.92      0.90       113\n",
      "        8.0       0.94      0.88      0.91        96\n",
      "        9.0       0.78      0.82      0.80       106\n",
      "\n",
      "avg / total       0.89      0.89      0.89      1000\n",
      "\n",
      "size: 3200  time: 1.4279999733\n",
      "size: 6400  total: 1000  correct: 888  accuracy: 0.89\n",
      "             precision    recall  f1-score   support\n",
      "\n",
      "        0.0       0.91      0.98      0.94        99\n",
      "        1.0       0.89      1.00      0.94       105\n",
      "        2.0       0.99      0.79      0.88       102\n",
      "        3.0       0.77      0.87      0.82        86\n",
      "        4.0       0.89      0.82      0.85       104\n",
      "        5.0       0.93      0.84      0.88        91\n",
      "        6.0       0.94      0.96      0.95        98\n",
      "        7.0       0.89      0.92      0.90       113\n",
      "        8.0       0.94      0.88      0.91        96\n",
      "        9.0       0.78      0.82      0.80       106\n",
      "\n",
      "avg / total       0.89      0.89      0.89      1000\n",
      "\n",
      "size: 6400  time: 1.50200009346\n",
      "size: 12800  total: 1000  correct: 888  accuracy: 0.89\n",
      "             precision    recall  f1-score   support\n",
      "\n",
      "        0.0       0.91      0.98      0.94        99\n",
      "        1.0       0.89      1.00      0.94       105\n",
      "        2.0       0.99      0.79      0.88       102\n",
      "        3.0       0.77      0.87      0.82        86\n",
      "        4.0       0.89      0.82      0.85       104\n",
      "        5.0       0.93      0.84      0.88        91\n",
      "        6.0       0.94      0.96      0.95        98\n",
      "        7.0       0.89      0.92      0.90       113\n",
      "        8.0       0.94      0.88      0.91        96\n",
      "        9.0       0.78      0.82      0.80       106\n",
      "\n",
      "avg / total       0.89      0.89      0.89      1000\n",
      "\n",
      "size: 12800  time: 1.44400000572\n",
      "size: 25000  total: 1000  correct: 888  accuracy: 0.89\n",
      "             precision    recall  f1-score   support\n",
      "\n",
      "        0.0       0.91      0.98      0.94        99\n",
      "        1.0       0.89      1.00      0.94       105\n",
      "        2.0       0.99      0.79      0.88       102\n",
      "        3.0       0.77      0.87      0.82        86\n",
      "        4.0       0.89      0.82      0.85       104\n",
      "        5.0       0.93      0.84      0.88        91\n",
      "        6.0       0.94      0.96      0.95        98\n",
      "        7.0       0.89      0.92      0.90       113\n",
      "        8.0       0.94      0.88      0.91        96\n",
      "        9.0       0.78      0.82      0.80       106\n",
      "\n",
      "avg / total       0.89      0.89      0.89      1000\n",
      "\n",
      "size: 25000  time: 1.41799998283\n"
     ]
    }
   ],
   "source": [
    "### STUDENT START ###\n",
    "def P3(train_sizes,accuracies):\n",
    "         \n",
    "    for t in train_sizes:\n",
    "            \n",
    "        start = time.time() #start time\n",
    "        neigh = KNeighborsClassifier(n_neighbors=1)\n",
    "        neigh.fit(mini_train_data[:t], mini_train_labels[:t])  #this essentially takes the first t values of the mini training data set to use different training sizes\n",
    "        preds = neigh.predict(dev_data)\n",
    "        \n",
    "    \n",
    "        correct, total = 0, 0\n",
    "        #print preds\n",
    "        for pred, label in zip(preds, dev_labels):\n",
    "            if pred == label: correct += 1\n",
    "            total += 1\n",
    "        print 'size: %s  total: %3d  correct: %3d  accuracy: %3.2f' %(t, total, correct, 1.0*correct/total)\n",
    "        \n",
    "        print(classification_report(dev_labels,preds))\n",
    "        accuracies.append(float(1.0*correct/total))        \n",
    "        end = time.time() #end time\n",
    "    \n",
    "        print 'size: %s  time: %s' %(t, (end-start))\n",
    "\n",
    "### STUDENT END ###\n",
    "\n",
    "train_sizes = [100, 200, 400, 800, 1600, 3200, 6400, 12800, 25000]\n",
    "accuracies = []\n",
    "P3(train_sizes, accuracies)\n",
    "#print accuracies"
   ]
  },
  {
   "cell_type": "markdown",
   "metadata": {},
   "source": [
    "(4) Fit a regression model that predicts accuracy from training size. What does it predict for n=60000? What's wrong with using regression here? Can you apply a transformation that makes the predictions more reasonable?\n",
    "\n",
    "- Remember that the sklearn fit() functions take an input matrix X and output vector Y. So each input example in X is a vector, even if it contains only a single value."
   ]
  },
  {
   "cell_type": "code",
   "execution_count": 8,
   "metadata": {
    "collapsed": false
   },
   "outputs": [
    {
     "data": {
      "image/png": "[encoded data removed]",
      "text/plain": [
       "<matplotlib.figure.Figure at 0x1064f198>"
      ]
     },
     "metadata": {},
     "output_type": "display_data"
    },
    {
     "name": "stdout",
     "output_type": "stream",
     "text": [
      "[ 1.02149154]\n"
     ]
    }
   ],
   "source": [
    "### STUDENT START ###\n",
    "def P4():\n",
    "    sizes = np.array(train_sizes).reshape(9,1) ##we need to reshape this so that we can use this in the fit function\n",
    "    lm = LinearRegression().fit(sizes,accuracies)\n",
    "\n",
    "    # Plot outputs\n",
    "    plt.scatter(sizes, accuracies,  color='black')\n",
    "    plt.plot(sizes, lm.predict(sizes), color='blue', linewidth=3)\n",
    "    plt.show()\n",
    "    \n",
    "    print lm.predict(60000)\n",
    "### STUDENT END ###\n",
    "\n",
    "P4()"
   ]
  },
  {
   "cell_type": "markdown",
   "metadata": {},
   "source": [
    "ANSWER: This predicts that with a training size of 60000, you get an accuracy of 1.02.  In this regression, you can see that there is an accuracy prediction above 1, which is impossible to get.  In order to make the prediction more reasonable, you can set upper and lower bounds to restrict the sizes so that anything with an accuracy amount below 0 or above 1 is not allowed or converted to the upper or lower bound numbers."
   ]
  },
  {
   "cell_type": "markdown",
   "metadata": {},
   "source": [
    "Fit a 1-NN and output a confusion matrix for the dev data. Use the confusion matrix to identify the most confused pair of digits, and display a few example mistakes.\n",
    "\n",
    "- confusion_matrix() produces a confusion matrix"
   ]
  },
  {
   "cell_type": "code",
   "execution_count": 9,
   "metadata": {
    "collapsed": false,
    "scrolled": true
   },
   "outputs": [
    {
     "name": "stdout",
     "output_type": "stream",
     "text": [
      "[[ 97   0   0   0   0   0   2   0   0   0]\n",
      " [  0 105   0   0   0   0   0   0   0   0]\n",
      " [  4   4  81   4   0   0   0   4   3   2]\n",
      " [  1   0   0  75   0   3   0   3   1   3]\n",
      " [  0   2   0   0  85   0   3   0   0  14]\n",
      " [  2   0   0   9   0  76   0   1   1   2]\n",
      " [  1   1   1   0   1   0  94   0   0   0]\n",
      " [  1   4   0   1   1   0   0 104   0   2]\n",
      " [  0   2   0   5   0   2   1   0  84   2]\n",
      " [  1   0   0   3   9   1   0   5   0  87]]\n"
     ]
    }
   ],
   "source": [
    "### STUDENT START ###\n",
    "def P5():\n",
    "    neigh = KNeighborsClassifier(n_neighbors=1)\n",
    "    neigh.fit(mini_train_data, mini_train_labels)\n",
    "    preds = neigh.predict(dev_data)\n",
    "    \n",
    "    print confusion_matrix(dev_labels, preds)\n",
    "        \n",
    "### STUDENT END ###\n",
    "\n",
    "P5()"
   ]
  },
  {
   "cell_type": "markdown",
   "metadata": {},
   "source": [
    "(6) A common image processing technique is to smooth an image by blurring. The idea is that the value of a particular pixel is estimated as the weighted combination of the original value and the values around it. Typically, the blurring is Gaussian -- that is, the weight of a pixel's influence is determined by a Gaussian function over the distance to the relevant pixel.\n",
    "\n",
    "Implement a simplified Gaussian blur by just using the 8 neighboring pixels: the smoothed value of a pixel is a weighted combination of the original value and the 8 neighboring values. Try applying your blur filter in 3 ways:\n",
    "- preprocess the training data but not the dev data\n",
    "- preprocess the dev data but not the training data\n",
    "- preprocess both training and dev data\n",
    "\n",
    "Note that there are Guassian blur filters available, for example in scipy.ndimage.filters. You're welcome to experiment with those, but you are likely to get the best results with the simplified version I described above."
   ]
  },
  {
   "cell_type": "code",
   "execution_count": 10,
   "metadata": {
    "collapsed": false
   },
   "outputs": [
    {
     "name": "stdout",
     "output_type": "stream",
     "text": [
      "Blurred Training, Regular Dev accuracy: 0.50\n",
      "Regular Training, Blurred Dev accuracy: 0.20\n",
      "Blurred Training, Blurred Dev accuracy: 0.26\n"
     ]
    },
    {
     "data": {
      "image/png": "[encoded data removed]",
      "text/plain": [
       "<matplotlib.figure.Figure at 0x108895f8>"
      ]
     },
     "metadata": {},
     "output_type": "display_data"
    }
   ],
   "source": [
    "from scipy.signal import convolve2d\n",
    "def P6():\n",
    "    kernel = np.array([[0.5,0.5,0.5],\\\n",
    "                      [0.5,1,0.5],\\\n",
    "                      [0.5,0.5,0.5]])\n",
    "    normalized_kernel = kernel / kernel.sum() # convolution kernel\n",
    "\n",
    "    #check that my blur is working\n",
    "    f,axes = plt.subplots(1,2)\n",
    "    sample = mini_train_data[1].reshape((28,28))\n",
    "    axes[0].matshow(sample,cmap=plt.cm.gray,vmin=0,vmax=1)# should show the regular image on the left\n",
    "    axes[1].matshow(convolve2d(sample,normalized_kernel, mode='same'),cmap=plt.cm.gray,vmin=0,vmax=1) #and the blurred version on the right\n",
    "    \n",
    "    blurred_mini_train_data = convolve2d(mini_train_data, normalized_kernel, mode=\"same\")\n",
    "    blurred_dev_data = convolve2d(dev_data,normalized_kernel,mode='same')# we will need the blurred versions of both for the modeling\n",
    "    \n",
    "    model = GaussianNB()\n",
    "    model1 = model.fit(blurred_mini_train_data,mini_train_labels) ## blur the train\n",
    "    print 'Blurred Training, Regular Dev accuracy: %3.2f' %model1.score(dev_data, dev_labels) #leave the dev unblurred\n",
    "    \n",
    "    model2 = model.fit(mini_train_data,mini_train_labels) #non-blurred training\n",
    "    print 'Regular Training, Blurred Dev accuracy: %3.2f' %model2.score(blurred_dev_data, dev_labels) #prediction on blurred dev \n",
    "    \n",
    "    model3 = model.fit(blurred_mini_train_data,mini_train_labels) #blur the train again\n",
    "    print 'Blurred Training, Blurred Dev accuracy: %3.2f' %model3.score(blurred_dev_data, dev_labels) #prediction on blurred\n",
    "\n",
    "### STUDENT END ###\n",
    "\n",
    "P6()"
   ]
  },
  {
   "cell_type": "markdown",
   "metadata": {},
   "source": [
    "ANSWER:  Model accuracy is not good when you blur the data.  When you blur the training data but not the dev data, you have more trouble recognizing the the dev data accurately.  However, this drops even more if you train on un-blurred data but give it blurred dev data.  This makes sense because all of the training is on high quality images, which makes the algorithm have trouble recognizing it properly.  The accuracy improves a bit when all data is blurred, but not as good as when you have good dev data."
   ]
  },
  {
   "cell_type": "markdown",
   "metadata": {},
   "source": [
    "(7) Fit a Naive Bayes classifier and report accuracy on the dev data. Remember that Naive Bayes estimates P(feature|label). While sklearn can handle real-valued features, let's start by mapping the pixel values to either 0 or 1. You can do this as a preprocessing step, or with the binarize argument. With binary-valued features, you can use BernoulliNB. Next try mapping the pixel values to 0, 1, or 2, representing white, grey, or black. This mapping requires MultinomialNB. Does the multi-class version improve the results? Why or why not?"
   ]
  },
  {
   "cell_type": "code",
   "execution_count": 11,
   "metadata": {
    "collapsed": false
   },
   "outputs": [
    {
     "name": "stdout",
     "output_type": "stream",
     "text": [
      "784\n"
     ]
    },
    {
     "data": {
      "image/png": "[encoded data removed]",
      "text/plain": [
       "<matplotlib.figure.Figure at 0x10f9deb8>"
      ]
     },
     "metadata": {},
     "output_type": "display_data"
    }
   ],
   "source": [
    "plt.hist(dev_data)\n",
    "print dev_data.shape[1]"
   ]
  },
  {
   "cell_type": "code",
   "execution_count": 12,
   "metadata": {
    "collapsed": false
   },
   "outputs": [
    {
     "name": "stdout",
     "output_type": "stream",
     "text": [
      "Binomial accuracy: 0.819\n",
      "Multinomial accuracy: 0.80\n"
     ]
    }
   ],
   "source": [
    "### STUDENT START ###\n",
    "from sklearn.preprocessing import binarize\n",
    "\n",
    "# Create new binarized training and test data\n",
    "binarized_mini_train_data = binarize(mini_train_data,threshold=0.5) #binarize the data using a cutoff of .5\n",
    "binarized_dev_data = binarize(dev_data,threshold=0.5) # binarize the dev data as well to do the predictions\n",
    "\n",
    "bins = np.array([0.0, .33, .67, 1.0])\n",
    "#print mini_train_data    \n",
    "#the function digitize converts to 0,1,2\n",
    "multirized_mini_train_data = np.digitize(mini_train_data, bins)-1\n",
    "multirized_dev_data = np.digitize(dev_data, bins)-1\n",
    "#print multirized_mini_train_data\n",
    "\n",
    "\n",
    "def P7():\n",
    "    bino = BernoulliNB(alpha=.001)\n",
    "    bino.fit(binarized_mini_train_data, mini_train_labels)\n",
    "\n",
    "    print 'Binomial accuracy: %3.3f' %bino.score(binarized_dev_data, dev_labels)\n",
    "    \n",
    "    multino = MultinomialNB()\n",
    "    multino.fit(multirized_mini_train_data, mini_train_labels)\n",
    "\n",
    "    print 'Multinomial accuracy: %3.2f' %multino.score(multirized_dev_data, dev_labels)\n",
    "    \n",
    "### STUDENT END ###\n",
    "\n",
    "P7()"
   ]
  },
  {
   "cell_type": "markdown",
   "metadata": {},
   "source": [
    "ANSWER:  I would expect the Binomial distribution to be better as if you look at the histogram of distribution, you can see that this the values are already pretty binary, with a vast amount of points very low and close to 0 or very high and close to 1.  There are extremely few data points in between, so splitting into 3 in the multinomial distribution gives very few datapoints in the mid."
   ]
  },
  {
   "cell_type": "markdown",
   "metadata": {},
   "source": [
    "(8) Use GridSearchCV to perform a search over values of alpha (the Laplace smoothing parameter) in a Bernoulli NB model. What is the best value for alpha? What is the accuracy when alpha=0? Is this what you'd expect?\n",
    "\n",
    "- Note that GridSearchCV partitions the training data so the results will be a bit different than if you used the dev data for evaluation."
   ]
  },
  {
   "cell_type": "code",
   "execution_count": 15,
   "metadata": {
    "collapsed": false
   },
   "outputs": [
    {
     "name": "stdout",
     "output_type": "stream",
     "text": [
      "alpha:0     accuracy: 0.099\n"
     ]
    }
   ],
   "source": [
    "### STUDENT START ###\n",
    "\n",
    "def P8(alphas):\n",
    "    \n",
    "    model = BernoulliNB()\n",
    "    bino = GridSearchCV(estimator=model, param_grid=alphas)\n",
    "    bino.fit(binarized_dev_data, dev_labels)\n",
    "    #print(bino.grid_scores_)\n",
    "    \n",
    "    model1 = BernoulliNB(alpha=0)\n",
    "    model1.fit(binarized_mini_train_data,mini_train_labels)\n",
    "    print 'alpha:0     accuracy: %3.3f' % model1.score(binarized_dev_data,dev_labels)\n",
    "    \n",
    "    #print(bino.best_estimator_)\n",
    "    return bino\n",
    "\n",
    "### STUDENT END ###\n",
    "\n",
    "alphas = {'alpha': [0.0, 0.0001, 0.001, 0.01, 0.1, 0.5, 1.0, 2.0, 10.0]}\n",
    "nb = P8(alphas)\n",
    "#print nb\n"
   ]
  },
  {
   "cell_type": "code",
   "execution_count": 14,
   "metadata": {
    "collapsed": false
   },
   "outputs": [
    {
     "name": "stdout",
     "output_type": "stream",
     "text": [
      "{'alpha': 0.001}\n"
     ]
    }
   ],
   "source": [
    "print nb.best_params_"
   ]
  },
  {
   "cell_type": "markdown",
   "metadata": {},
   "source": [
    "ANSWER:   The best value for alpha is .001.  If you set alpha=0, this means that if every value you have is 0, your prediction will have 0 probability of being something else.  The score when you set alpha=0 is very poor, at .099.  Yes, this is what I expect.  When using the BernoulliNB, if alpha=0, that means you give very little leeway in terms of assessing very binary numbers where you everything below a certain threshold was already set to 0.  This stringency will create a poor model."
   ]
  },
  {
   "cell_type": "markdown",
   "metadata": {},
   "source": [
    "(9) Try training a model using GuassianNB, which is intended for real-valued features, and evaluate on the dev data. You'll notice that it doesn't work so well. Try to diagnose the problem. You should be able to find a simple fix that returns the accuracy to around the same rate as BernoulliNB. Explain your solution.\n",
    "\n",
    "Hint: examine the parameters estimated by the fit() method, theta\\_ and sigma\\_."
   ]
  },
  {
   "cell_type": "code",
   "execution_count": 17,
   "metadata": {
    "collapsed": false
   },
   "outputs": [
    {
     "name": "stdout",
     "output_type": "stream",
     "text": [
      "0.621\n",
      "0.793\n"
     ]
    }
   ],
   "source": [
    "### STUDENT END ###\n",
    "def P9():\n",
    "    gau = GaussianNB()\n",
    "    nb = gau.fit(mini_train_data, mini_train_labels)\n",
    "    dev_pred = gau.predict(dev_data)\n",
    "    accuracy = np.mean(dev_pred == dev_labels)\n",
    "    #print nb.sigma_  ## sigma is the variation.\n",
    "    print accuracy\n",
    "    \n",
    "    #theta would be to alter the mean. i chose to alter the variance\n",
    "    gau.sigma_ += 0.015  #this will alter the variance manually.  we are adding noise to the dataset so that there is nothing with probability 0\n",
    "    dev_pred = gau.predict(dev_data)\n",
    "    accuracy = np.mean(dev_pred == dev_labels)\n",
    "    print accuracy\n",
    "\n",
    "    \n",
    "### STUDENT END ###\n",
    "\n",
    "gnb = P9()"
   ]
  },
  {
   "cell_type": "markdown",
   "metadata": {},
   "source": [
    "ANSWER:  When you look at the sigma value for the fit, you can see that the values are exremely small.  One way to fix this is to add noise to the dataset and create more variance so that there is nothing with probability 0.  To do this, after fitting a model and generating the model sigma value, we manually alter that by setting a different sigma value to create more variance in the dataset.  This allows us to bump our model accuracy."
   ]
  },
  {
   "cell_type": "markdown",
   "metadata": {},
   "source": [
    "(10) Because Naive Bayes is a generative model, we can use the trained model to generate digits. Train a BernoulliNB model and then generate a 10x20 grid with 20 examples of each digit. Because you're using a Bernoulli model, each pixel output will be either 0 or 1. How do the generated digits compare to the training digits?\n",
    "\n",
    "- You can use np.random.rand() to generate random numbers from a uniform distribution\n",
    "- The estimated probability of each pixel is stored in feature\\_log\\_prob\\_. You'll need to use np.exp() to convert a log probability back to a probability."
   ]
  },
  {
   "cell_type": "code",
   "execution_count": 18,
   "metadata": {
    "collapsed": false
   },
   "outputs": [
    {
     "data": {
      "image/png": "[encoded data removed]",
      "text/plain": [
       "<matplotlib.figure.Figure at 0x943d080>"
      ]
     },
     "metadata": {},
     "output_type": "display_data"
    }
   ],
   "source": [
    "### STUDENT START ###\n",
    "def P10(num_examples):\n",
    "    bino = BernoulliNB(alpha=.001)\n",
    "    bino.fit(binarized_mini_train_data, mini_train_labels)\n",
    "    \n",
    "    dev_pred = bino.predict(binarized_dev_data)\n",
    "    \n",
    "    for i in xrange(10):\n",
    "        for j in xrange(num_examples):\n",
    "            matr = np.exp(bino.feature_log_prob_[i])\n",
    "            for k,pix in enumerate(matr):\n",
    "                n = np.random.rand()\n",
    "                if pix > n:\n",
    "                    matr[k] = 1\n",
    "                else:\n",
    "                    matr[k] = 0\n",
    "            ax = plt.subplot(10,20,i*20+j+1)\n",
    "            off = ax.set_axis_off()\n",
    "            p = plt.imshow(matr.reshape(28,28),cmap=plt.cm.gray, vmin=0.0, vmax=1.0)\n",
    "### STUDENT END ###\n",
    "\n",
    "P10(20)"
   ]
  },
  {
   "cell_type": "markdown",
   "metadata": {},
   "source": [
    "ANSWER:  These generated digits are a lot more uniform accross the examples of each digit, whereas the training set has much more variable figures in the examples.  This is due to the binarization of the model which makes things more clear-cut and consistent as the features becomes more pronounced."
   ]
  },
  {
   "cell_type": "markdown",
   "metadata": {},
   "source": [
    "(11) Remember that a strongly calibrated classifier is rougly 90% accurate when the posterior probability of the predicted class is 0.9. A weakly calibrated classifier is more accurate when the posterior is 90% than when it is 80%. A poorly calibrated classifier has no positive correlation between posterior and accuracy.\n",
    "\n",
    "Train a BernoulliNB model with a reasonable alpha value. For each posterior bucket (think of a bin in a histogram), you want to estimate the classifier's accuracy. So for each prediction, find the bucket the maximum posterior belongs to and update the \"correct\" and \"total\" counters.\n",
    "\n",
    "How would you characterize the calibration for the Naive Bayes model?"
   ]
  },
  {
   "cell_type": "code",
   "execution_count": 33,
   "metadata": {
    "collapsed": false
   },
   "outputs": [
    {
     "name": "stdout",
     "output_type": "stream",
     "text": [
      " p(pred) <= 0.0000000000000    total =   2    accuracy = 0.500\n",
      " p(pred) <= 0.5000000000000    total =  34    accuracy = 0.265\n",
      " p(pred) <= 0.9000000000000    total =  65    accuracy = 0.354\n",
      " p(pred) <= 0.9990000000000    total =  52    accuracy = 0.462\n",
      " p(pred) <= 0.9999900000000    total =  78    accuracy = 0.692\n",
      " p(pred) <= 0.9999999000000    total =  65    accuracy = 0.723\n",
      " p(pred) <= 0.9999999990000    total =  65    accuracy = 0.815\n",
      " p(pred) <= 0.9999999999900    total =  57    accuracy = 0.895\n",
      " p(pred) <= 0.9999999999999    total =  29    accuracy = 0.931\n",
      " p(pred) <= 1.0000000000000    total = 553    accuracy = 0.958\n"
     ]
    }
   ],
   "source": [
    "### STUDENT START ###\n",
    "def P11(buckets,correct,total):\n",
    "    bino = BernoulliNB(alpha=.001)\n",
    "    bino.fit(binarized_mini_train_data, mini_train_labels)\n",
    "\n",
    "    dev_pred = bino.predict(binarized_dev_data)\n",
    "    pred_prob = nb.predict_proba(binarized_dev_data)\n",
    "    #print pred_prob\n",
    "\n",
    "    maxpred = []\n",
    "    maxloc = np.argmax(pred_prob,axis=1)\n",
    "    for n in range(len(pred_prob)):\n",
    "        maxpred.append(pred_prob[n][maxloc[n]])\n",
    "    #print maxpred\n",
    "\n",
    "    inds = np.digitize(maxpred,buckets)-1\n",
    "    #print inds\n",
    "\n",
    "    for n in range(len(inds)):\n",
    "        #print \"%s is in bin %s\" % (maxpred[n],inds[n])\n",
    "        #print \"%s was called %s\" % (dev_labels[n], dev_pred[n])\n",
    "        total[inds[n]] += 1\n",
    "        #print total\n",
    "        if dev_pred[n] == dev_labels[n]:\n",
    "            correct[inds[n]] += 1\n",
    "### STUDENT END ###\n",
    "\n",
    "buckets = [0,0.5, 0.9, 0.999, 0.99999, 0.9999999, 0.999999999, 0.99999999999, 0.9999999999999, 1.0]\n",
    "correct = [0 for i in buckets]\n",
    "total = [0 for i in buckets]\n",
    "\n",
    "P11(buckets, correct, total)\n",
    "\n",
    "for i in range(len(buckets)):\n",
    "   accuracy = 0.0\n",
    "   if (total[i] > 0): accuracy = float(correct[i]) / total[i]\n",
    "   print ' p(pred) <= %.13f    total = %3d    accuracy = %.3f' %(buckets[i], total[i], accuracy)"
   ]
  },
  {
   "cell_type": "markdown",
   "metadata": {},
   "source": [
    "ANSWER: I would say that this is a well calibrated model.  As the prediction probability increases, you see increasingly better accuracy.  The only time this is not true is when the prediction probability is under .5, but there are only 2 data points that fit into this bucket anyway."
   ]
  },
  {
   "cell_type": "markdown",
   "metadata": {},
   "source": [
    "(12) EXTRA CREDIT\n",
    "\n",
    "Try designing extra features to see if you can improve the performance of Naive Bayes on the dev set. Here are a few ideas to get you started:\n",
    "- Try summing the pixel values in each row and each column.\n",
    "- Try counting the number of enclosed regions; 8 usually has 2 enclosed regions, 9 usually has 1, and 7 usually has 0.\n",
    "\n",
    "Make sure you comment your code well!"
   ]
  },
  {
   "cell_type": "code",
   "execution_count": 95,
   "metadata": {
    "collapsed": false
   },
   "outputs": [
    {
     "name": "stdout",
     "output_type": "stream",
     "text": [
      "[[ 0.  0.  0. ...,  0.  0.  0.]\n",
      " [ 0.  0.  0. ...,  0.  0.  0.]\n",
      " [ 0.  0.  0. ...,  0.  0.  0.]\n",
      " ..., \n",
      " [ 0.  0.  0. ...,  0.  0.  0.]\n",
      " [ 0.  0.  0. ...,  0.  0.  0.]\n",
      " [ 0.  0.  0. ...,  0.  0.  0.]]\n",
      "[[ 0.  0.  0. ...,  0.  0.  0.]\n",
      " [ 0.  0.  0. ...,  0.  0.  0.]\n",
      " [ 0.  0.  0. ...,  0.  0.  0.]\n",
      " ..., \n",
      " [ 0.  0.  0. ...,  0.  0.  0.]\n",
      " [ 0.  0.  0. ...,  0.  0.  0.]\n",
      " [ 0.  0.  0. ...,  0.  0.  0.]]\n",
      "[[ 0.  0.  0. ...,  0.  0.  0.]\n",
      " [ 0.  0.  0. ...,  0.  0.  0.]\n",
      " [ 0.  0.  0. ...,  0.  0.  0.]\n",
      " ..., \n",
      " [ 0.  0.  0. ...,  0.  0.  0.]\n",
      " [ 0.  0.  0. ...,  0.  0.  0.]\n",
      " [ 0.  0.  0. ...,  0.  0.  0.]]\n",
      "[[ 0.  0.  0. ...,  0.  0.  0.]\n",
      " [ 0.  0.  0. ...,  0.  0.  0.]\n",
      " [ 0.  0.  0. ...,  0.  0.  0.]\n",
      " ..., \n",
      " [ 0.  0.  0. ...,  0.  0.  0.]\n",
      " [ 0.  0.  0. ...,  0.  0.  0.]\n",
      " [ 0.  0.  0. ...,  0.  0.  0.]]\n",
      "[[ 0.  0.  0. ...,  0.  0.  0.]\n",
      " [ 0.  0.  0. ...,  0.  0.  0.]\n",
      " [ 0.  0.  0. ...,  0.  0.  0.]\n",
      " ..., \n",
      " [ 0.  0.  0. ...,  0.  0.  0.]\n",
      " [ 0.  0.  0. ...,  0.  0.  0.]\n",
      " [ 0.  0.  0. ...,  0.  0.  0.]]\n",
      "[[ 0.  0.  0. ...,  0.  0.  0.]\n",
      " [ 0.  0.  0. ...,  0.  0.  0.]\n",
      " [ 0.  0.  0. ...,  0.  0.  0.]\n",
      " ..., \n",
      " [ 0.  0.  0. ...,  0.  0.  0.]\n",
      " [ 0.  0.  0. ...,  0.  0.  0.]\n",
      " [ 0.  0.  0. ...,  0.  0.  0.]]\n",
      "[[ 0.  0.  0. ...,  0.  0.  0.]\n",
      " [ 0.  0.  0. ...,  0.  0.  0.]\n",
      " [ 0.  0.  0. ...,  0.  0.  0.]\n",
      " ..., \n",
      " [ 0.  0.  0. ...,  0.  0.  0.]\n",
      " [ 0.  0.  0. ...,  0.  0.  0.]\n",
      " [ 0.  0.  0. ...,  0.  0.  0.]]\n",
      "[[ 0.  0.  0. ...,  0.  0.  0.]\n",
      " [ 0.  0.  0. ...,  0.  0.  0.]\n",
      " [ 0.  0.  0. ...,  0.  0.  0.]\n",
      " ..., \n",
      " [ 0.  0.  0. ...,  0.  0.  0.]\n",
      " [ 0.  0.  0. ...,  0.  0.  0.]\n",
      " [ 0.  0.  0. ...,  0.  0.  0.]]\n",
      "[[ 0.  0.  0. ...,  0.  0.  0.]\n",
      " [ 0.  0.  0. ...,  0.  0.  0.]\n",
      " [ 0.  0.  0. ...,  0.  0.  0.]\n",
      " ..., \n",
      " [ 0.  0.  0. ...,  0.  0.  0.]\n",
      " [ 0.  0.  0. ...,  0.  0.  0.]\n",
      " [ 0.  0.  0. ...,  0.  0.  0.]]\n",
      "[[ 0.  0.  0. ...,  0.  0.  0.]\n",
      " [ 0.  0.  0. ...,  0.  0.  0.]\n",
      " [ 0.  0.  0. ...,  0.  0.  0.]\n",
      " ..., \n",
      " [ 0.  0.  0. ...,  0.  0.  0.]\n",
      " [ 0.  0.  0. ...,  0.  0.  0.]\n",
      " [ 0.  0.  0. ...,  0.  0.  0.]]\n"
     ]
    },
    {
     "name": "stderr",
     "output_type": "stream",
     "text": [
      "C:\\Users\\icwang\\AppData\\Local\\Continuum\\Anaconda2\\lib\\site-packages\\sklearn\\utils\\validation.py:386: DeprecationWarning: Passing 1d arrays as data is deprecated in 0.17 and willraise ValueError in 0.19. Reshape your data either using X.reshape(-1, 1) if your data has a single feature or X.reshape(1, -1) if it contains a single sample.\n",
      "  DeprecationWarning)\n"
     ]
    },
    {
     "ename": "ValueError",
     "evalue": "Found arrays with inconsistent numbers of samples: [   1 1000]",
     "output_type": "error",
     "traceback": [
      "\u001b[0;31m---------------------------------------------------------------------------\u001b[0m",
      "\u001b[0;31mValueError\u001b[0m                                Traceback (most recent call last)",
      "\u001b[0;32m<ipython-input-95-01c98aaef9dd>\u001b[0m in \u001b[0;36m<module>\u001b[0;34m()\u001b[0m\n\u001b[1;32m     27\u001b[0m \u001b[1;31m### STUDENT END ###\u001b[0m\u001b[1;33m\u001b[0m\u001b[1;33m\u001b[0m\u001b[0m\n\u001b[1;32m     28\u001b[0m \u001b[1;33m\u001b[0m\u001b[0m\n\u001b[0;32m---> 29\u001b[0;31m \u001b[0mP12\u001b[0m\u001b[1;33m(\u001b[0m\u001b[1;33m)\u001b[0m\u001b[1;33m\u001b[0m\u001b[0m\n\u001b[0m",
      "\u001b[0;32m<ipython-input-95-01c98aaef9dd>\u001b[0m in \u001b[0;36mP12\u001b[0;34m()\u001b[0m\n\u001b[1;32m     21\u001b[0m     \u001b[1;31m#with this new data now we can re-run and see if the extra features will be better\u001b[0m\u001b[1;33m\u001b[0m\u001b[1;33m\u001b[0m\u001b[0m\n\u001b[1;32m     22\u001b[0m     \u001b[0mgau\u001b[0m \u001b[1;33m=\u001b[0m \u001b[0mGaussianNB\u001b[0m\u001b[1;33m(\u001b[0m\u001b[1;33m)\u001b[0m\u001b[1;33m\u001b[0m\u001b[0m\n\u001b[0;32m---> 23\u001b[0;31m     \u001b[0mnb\u001b[0m \u001b[1;33m=\u001b[0m \u001b[0mgau\u001b[0m\u001b[1;33m.\u001b[0m\u001b[0mfit\u001b[0m\u001b[1;33m(\u001b[0m\u001b[0mnew_mini_train_data\u001b[0m\u001b[1;33m,\u001b[0m \u001b[0mmini_train_labels\u001b[0m\u001b[1;33m)\u001b[0m\u001b[1;33m\u001b[0m\u001b[0m\n\u001b[0m\u001b[1;32m     24\u001b[0m     \u001b[0mdev_pred\u001b[0m \u001b[1;33m=\u001b[0m \u001b[0mgau\u001b[0m\u001b[1;33m.\u001b[0m\u001b[0mpredict\u001b[0m\u001b[1;33m(\u001b[0m\u001b[0mdev_data\u001b[0m\u001b[1;33m)\u001b[0m\u001b[1;33m\u001b[0m\u001b[0m\n\u001b[1;32m     25\u001b[0m     \u001b[0maccuracy\u001b[0m \u001b[1;33m=\u001b[0m \u001b[0mnp\u001b[0m\u001b[1;33m.\u001b[0m\u001b[0mmean\u001b[0m\u001b[1;33m(\u001b[0m\u001b[0mdev_pred\u001b[0m \u001b[1;33m==\u001b[0m \u001b[0mdev_labels\u001b[0m\u001b[1;33m)\u001b[0m\u001b[1;33m\u001b[0m\u001b[0m\n",
      "\u001b[0;32mC:\\Users\\icwang\\AppData\\Local\\Continuum\\Anaconda2\\lib\\site-packages\\sklearn\\naive_bayes.pyc\u001b[0m in \u001b[0;36mfit\u001b[0;34m(self, X, y, sample_weight)\u001b[0m\n\u001b[1;32m    171\u001b[0m             \u001b[0mReturns\u001b[0m \u001b[0mself\u001b[0m\u001b[1;33m.\u001b[0m\u001b[1;33m\u001b[0m\u001b[0m\n\u001b[1;32m    172\u001b[0m         \"\"\"\n\u001b[0;32m--> 173\u001b[0;31m         \u001b[0mX\u001b[0m\u001b[1;33m,\u001b[0m \u001b[0my\u001b[0m \u001b[1;33m=\u001b[0m \u001b[0mcheck_X_y\u001b[0m\u001b[1;33m(\u001b[0m\u001b[0mX\u001b[0m\u001b[1;33m,\u001b[0m \u001b[0my\u001b[0m\u001b[1;33m)\u001b[0m\u001b[1;33m\u001b[0m\u001b[0m\n\u001b[0m\u001b[1;32m    174\u001b[0m         return self._partial_fit(X, y, np.unique(y), _refit=True,\n\u001b[1;32m    175\u001b[0m                                  sample_weight=sample_weight)\n",
      "\u001b[0;32mC:\\Users\\icwang\\AppData\\Local\\Continuum\\Anaconda2\\lib\\site-packages\\sklearn\\utils\\validation.pyc\u001b[0m in \u001b[0;36mcheck_X_y\u001b[0;34m(X, y, accept_sparse, dtype, order, copy, force_all_finite, ensure_2d, allow_nd, multi_output, ensure_min_samples, ensure_min_features, y_numeric, warn_on_dtype, estimator)\u001b[0m\n\u001b[1;32m    518\u001b[0m         \u001b[0my\u001b[0m \u001b[1;33m=\u001b[0m \u001b[0my\u001b[0m\u001b[1;33m.\u001b[0m\u001b[0mastype\u001b[0m\u001b[1;33m(\u001b[0m\u001b[0mnp\u001b[0m\u001b[1;33m.\u001b[0m\u001b[0mfloat64\u001b[0m\u001b[1;33m)\u001b[0m\u001b[1;33m\u001b[0m\u001b[0m\n\u001b[1;32m    519\u001b[0m \u001b[1;33m\u001b[0m\u001b[0m\n\u001b[0;32m--> 520\u001b[0;31m     \u001b[0mcheck_consistent_length\u001b[0m\u001b[1;33m(\u001b[0m\u001b[0mX\u001b[0m\u001b[1;33m,\u001b[0m \u001b[0my\u001b[0m\u001b[1;33m)\u001b[0m\u001b[1;33m\u001b[0m\u001b[0m\n\u001b[0m\u001b[1;32m    521\u001b[0m \u001b[1;33m\u001b[0m\u001b[0m\n\u001b[1;32m    522\u001b[0m     \u001b[1;32mreturn\u001b[0m \u001b[0mX\u001b[0m\u001b[1;33m,\u001b[0m \u001b[0my\u001b[0m\u001b[1;33m\u001b[0m\u001b[0m\n",
      "\u001b[0;32mC:\\Users\\icwang\\AppData\\Local\\Continuum\\Anaconda2\\lib\\site-packages\\sklearn\\utils\\validation.pyc\u001b[0m in \u001b[0;36mcheck_consistent_length\u001b[0;34m(*arrays)\u001b[0m\n\u001b[1;32m    174\u001b[0m     \u001b[1;32mif\u001b[0m \u001b[0mlen\u001b[0m\u001b[1;33m(\u001b[0m\u001b[0muniques\u001b[0m\u001b[1;33m)\u001b[0m \u001b[1;33m>\u001b[0m \u001b[1;36m1\u001b[0m\u001b[1;33m:\u001b[0m\u001b[1;33m\u001b[0m\u001b[0m\n\u001b[1;32m    175\u001b[0m         raise ValueError(\"Found arrays with inconsistent numbers of samples: \"\n\u001b[0;32m--> 176\u001b[0;31m                          \"%s\" % str(uniques))\n\u001b[0m\u001b[1;32m    177\u001b[0m \u001b[1;33m\u001b[0m\u001b[0m\n\u001b[1;32m    178\u001b[0m \u001b[1;33m\u001b[0m\u001b[0m\n",
      "\u001b[0;31mValueError\u001b[0m: Found arrays with inconsistent numbers of samples: [   1 1000]"
     ]
    }
   ],
   "source": [
    "### STUDENT START ###\n",
    "def P12():\n",
    "    #print len(mini_train_data)\n",
    "    #fig, axes = plt.subplots(10, 1)\n",
    "    for i in range(10): #let's do this for each digit\n",
    "        digits = mini_train_data[mini_train_labels == i]\n",
    "        #print mini_train_data[mini_train_labels == i]\n",
    "        #print len(digits)\n",
    "        for j, digit in enumerate(digits):\n",
    "            reshaped = digit.reshape(28, 28) #reshape it so that the data is 28x28\n",
    "            row_sums = np.sum(reshaped, axis=0).reshape(1,28) #add sum for the rows\n",
    "            col_sums = np.sum(reshaped, axis=1).reshape(1,28) #add sum for the columns\n",
    "            new_reshaped = np.concatenate((reshaped,row_sums,col_sums), axis=0)  #now append it to the original data\n",
    "            new_digit = new_reshaped.reshape(1,840)\n",
    "            new_list = new_digit.tolist()\n",
    "        #print new_list\n",
    "        #print mini_train_data\n",
    "        \n",
    "        new_mini_train_data = np.append(mini_train_data, new_list) ##okay, something still buggy here... not sure why\n",
    "    #now we need to use this new feature when running the data\n",
    "    #with this new data now we can re-run and see if the extra features will be better\n",
    "    gau = GaussianNB()\n",
    "    nb = gau.fit(new_mini_train_data, mini_train_labels)\n",
    "    dev_pred = gau.predict(dev_data)\n",
    "    accuracy = np.mean(dev_pred == dev_labels)\n",
    "    print accuracy\n",
    "### STUDENT END ###\n",
    "\n",
    "P12()  #not totally functional, but you give partial extra credit, right?"
   ]
  },
  {
   "cell_type": "code",
   "execution_count": null,
   "metadata": {
    "collapsed": true
   },
   "outputs": [],
   "source": []
  }
 ],
 "metadata": {
  "anaconda-cloud": {},
  "kernelspec": {
   "display_name": "Python [default]",
   "language": "python",
   "name": "python2"
  },
  "language_info": {
   "codemirror_mode": {
    "name": "ipython",
    "version": 2
   },
   "file_extension": ".py",
   "mimetype": "text/x-python",
   "name": "python",
   "nbconvert_exporter": "python",
   "pygments_lexer": "ipython2",
   "version": "2.7.12"
  }
 },
 "nbformat": 4,
 "nbformat_minor": 0
}
